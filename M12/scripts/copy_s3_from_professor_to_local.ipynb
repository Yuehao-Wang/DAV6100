{
 "cells": [
  {
   "cell_type": "code",
   "execution_count": 3,
   "metadata": {},
   "outputs": [],
   "source": [
    "import email\n",
    "import smtplib\n",
    "import ssl\n",
    "import xlrd\n",
    "import xlwt\n",
    "import s3fs\n",
    "import hashlib #check sum\n",
    "import shutil#zip\n",
    "import time#timestamps\n",
    "import boto3#s3 access\n",
    "import os #used to make a directory for save our files\n",
    "import re #regex library\n",
    "import mysql.connector\n",
    "\n",
    "from mysql.connector import errorcode\n",
    "from shutil import make_archive\n",
    "from datetime import datetime\n",
    "import pandas as pd\n"
   ]
  },
  {
   "cell_type": "code",
   "execution_count": 4,
   "metadata": {},
   "outputs": [
    {
     "data": {
      "text/html": [
       "<div>\n",
       "<style scoped>\n",
       "    .dataframe tbody tr th:only-of-type {\n",
       "        vertical-align: middle;\n",
       "    }\n",
       "\n",
       "    .dataframe tbody tr th {\n",
       "        vertical-align: top;\n",
       "    }\n",
       "\n",
       "    .dataframe thead th {\n",
       "        text-align: right;\n",
       "    }\n",
       "</style>\n",
       "<table border=\"1\" class=\"dataframe\">\n",
       "  <thead>\n",
       "    <tr style=\"text-align: right;\">\n",
       "      <th></th>\n",
       "      <th>RETURN_ID</th>\n",
       "      <th>FILING_TYPE</th>\n",
       "      <th>EIN</th>\n",
       "      <th>TAX_PERIOD</th>\n",
       "      <th>SUB_DATE</th>\n",
       "      <th>TAXPAYER_NAME</th>\n",
       "      <th>RETURN_TYPE</th>\n",
       "      <th>DLN</th>\n",
       "      <th>OBJECT_ID</th>\n",
       "    </tr>\n",
       "  </thead>\n",
       "  <tbody>\n",
       "    <tr>\n",
       "      <th>0</th>\n",
       "      <td>16285381</td>\n",
       "      <td>EFILE</td>\n",
       "      <td>133085892</td>\n",
       "      <td>201809</td>\n",
       "      <td>5/10/2019 6:06:12 AM</td>\n",
       "      <td>LOGOS ENCOUNTER INC</td>\n",
       "      <td>990</td>\n",
       "      <td>93493091012069</td>\n",
       "      <td>201910919349301206</td>\n",
       "    </tr>\n",
       "    <tr>\n",
       "      <th>1</th>\n",
       "      <td>16279505</td>\n",
       "      <td>EFILE</td>\n",
       "      <td>640411847</td>\n",
       "      <td>201805</td>\n",
       "      <td>5/8/2019 9:46:22 PM</td>\n",
       "      <td>MISSISSIPPI CHRISTIAN FOUNDATION</td>\n",
       "      <td>990</td>\n",
       "      <td>93493101010839</td>\n",
       "      <td>201931019349301083</td>\n",
       "    </tr>\n",
       "  </tbody>\n",
       "</table>\n",
       "</div>"
      ],
      "text/plain": [
       "   RETURN_ID FILING_TYPE        EIN  TAX_PERIOD              SUB_DATE  \\\n",
       "0   16285381       EFILE  133085892      201809  5/10/2019 6:06:12 AM   \n",
       "1   16279505       EFILE  640411847      201805   5/8/2019 9:46:22 PM   \n",
       "\n",
       "                      TAXPAYER_NAME RETURN_TYPE             DLN  \\\n",
       "0               LOGOS ENCOUNTER INC         990  93493091012069   \n",
       "1  MISSISSIPPI CHRISTIAN FOUNDATION         990  93493101010839   \n",
       "\n",
       "            OBJECT_ID  \n",
       "0  201910919349301206  \n",
       "1  201931019349301083  "
      ]
     },
     "execution_count": 4,
     "metadata": {},
     "output_type": "execute_result"
    }
   ],
   "source": [
    "irs990 = pd.read_csv('s3://irs-form-990/index_2019.csv')\n",
    "irs990.head(2)"
   ]
  },
  {
   "cell_type": "code",
   "execution_count": 5,
   "metadata": {},
   "outputs": [
    {
     "data": {
      "text/plain": [
       "(416880, 9)"
      ]
     },
     "execution_count": 5,
     "metadata": {},
     "output_type": "execute_result"
    }
   ],
   "source": [
    "irs990.shape"
   ]
  },
  {
   "cell_type": "code",
   "execution_count": 6,
   "metadata": {},
   "outputs": [
    {
     "name": "stdout",
     "output_type": "stream",
     "text": [
      "s3://yuehao-irs-990/database/index_2019.csv\n",
      "Successfull uploaded file to location:s3://yuehao-irs-990/database/index_2019.csv\n"
     ]
    },
    {
     "data": {
      "text/plain": [
       "'s3://yuehao-irs-990/database/index_2019.csv'"
      ]
     },
     "execution_count": 6,
     "metadata": {},
     "output_type": "execute_result"
    }
   ],
   "source": [
    "def save_to_s3(df):\n",
    "    \n",
    "    # df.to_csv(None, index=False) can remove the blank header\n",
    "    byte_encoded_csv = df.to_csv(None, index=False).encode() #encodes file as binary\n",
    "    \n",
    "    # s3://g2-final/readme.txt\n",
    "    pathname = 's3://yuehao-irs-990/database/' #specify location of s3:/{my-bucket}/\n",
    "    filename= 'index_2019.csv' #name of your group\n",
    "    \n",
    "    \n",
    "    filenames3 = \"%s%s\"%(pathname, filename) #name of the filepath and csv file\n",
    "    print(filenames3)\n",
    "    \n",
    "    s3 = s3fs.S3FileSystem(anon=False)\n",
    "    \n",
    "    with s3.open(filenames3, 'wb') as file:\n",
    "        file.write(byte_encoded_csv) #writes byte-encoded file to s3 location\n",
    "\n",
    "    #print success message\n",
    "    print(\"Successfull uploaded file to location:\"+str(filenames3))\n",
    "    \n",
    "    return filenames3\n",
    "\n",
    "#save_to_s3(irs990)"
   ]
  },
  {
   "cell_type": "code",
   "execution_count": 8,
   "metadata": {},
   "outputs": [],
   "source": [
    "irs990_990 = irs990[irs990['RETURN_TYPE'] == '990']"
   ]
  },
  {
   "cell_type": "code",
   "execution_count": 9,
   "metadata": {},
   "outputs": [
    {
     "data": {
      "text/plain": [
       "(173670, 9)"
      ]
     },
     "execution_count": 9,
     "metadata": {},
     "output_type": "execute_result"
    }
   ],
   "source": [
    "irs990_990.shape"
   ]
  },
  {
   "cell_type": "code",
   "execution_count": 10,
   "metadata": {},
   "outputs": [
    {
     "data": {
      "text/plain": [
       "(29792, 9)"
      ]
     },
     "execution_count": 10,
     "metadata": {},
     "output_type": "execute_result"
    }
   ],
   "source": [
    "irs990_990EO = irs990[irs990['RETURN_TYPE'] == '990EO']\n",
    "irs990_990EO.shape"
   ]
  },
  {
   "cell_type": "code",
   "execution_count": 11,
   "metadata": {},
   "outputs": [
    {
     "data": {
      "text/plain": [
       "(95023, 9)"
      ]
     },
     "execution_count": 11,
     "metadata": {},
     "output_type": "execute_result"
    }
   ],
   "source": [
    "irs990_990EZ = irs990[irs990['RETURN_TYPE'] == '990EZ']\n",
    "irs990_990EZ.shape"
   ]
  },
  {
   "cell_type": "code",
   "execution_count": 12,
   "metadata": {},
   "outputs": [
    {
     "data": {
      "text/plain": [
       "(53675, 9)"
      ]
     },
     "execution_count": 12,
     "metadata": {},
     "output_type": "execute_result"
    }
   ],
   "source": [
    "irs990_990O = irs990[irs990['RETURN_TYPE'] == '990O']\n",
    "irs990_990O.shape"
   ]
  },
  {
   "cell_type": "code",
   "execution_count": 20,
   "metadata": {},
   "outputs": [
    {
     "data": {
      "text/plain": [
       "(64720, 9)"
      ]
     },
     "execution_count": 20,
     "metadata": {},
     "output_type": "execute_result"
    }
   ],
   "source": [
    "irs990_990PF = irs990[irs990['RETURN_TYPE'] == '990PF']\n",
    "irs990_990PF.shape"
   ]
  },
  {
   "cell_type": "code",
   "execution_count": 13,
   "metadata": {},
   "outputs": [],
   "source": [
    "def save_to_s3(df, return_type):\n",
    "    \n",
    "    # df.to_csv(None, index=False) can remove the blank header\n",
    "    byte_encoded_csv = df.to_csv(None, index=False).encode() #encodes file as binary\n",
    "    \n",
    "    # s3://g2-final/readme.txt\n",
    "    pathname = 's3://yuehao-irs-990/partition/' #specify location of s3:/{my-bucket}/\n",
    "    filename= 'index_2019.csv' #name of your group\n",
    "    \n",
    "    \n",
    "    filenames3 = \"%s%s%s\"%(pathname, return_type, filename) #name of the filepath and csv file\n",
    "    print(filenames3)\n",
    "    \n",
    "    s3 = s3fs.S3FileSystem(anon=False)\n",
    "    \n",
    "    with s3.open(filenames3, 'wb') as file:\n",
    "        file.write(byte_encoded_csv) #writes byte-encoded file to s3 location\n",
    "\n",
    "    #print success message\n",
    "    print(\"Successfull uploaded file to location:\"+str(filenames3))\n",
    "    \n",
    "    return filenames3"
   ]
  },
  {
   "cell_type": "code",
   "execution_count": 15,
   "metadata": {},
   "outputs": [
    {
     "name": "stdout",
     "output_type": "stream",
     "text": [
      "s3://yuehao-irs-990/partition/return_type=990/index_2019.csv\n",
      "Successfull uploaded file to location:s3://yuehao-irs-990/partition/return_type=990/index_2019.csv\n"
     ]
    },
    {
     "data": {
      "text/plain": [
       "'s3://yuehao-irs-990/partition/return_type=990/index_2019.csv'"
      ]
     },
     "execution_count": 15,
     "metadata": {},
     "output_type": "execute_result"
    }
   ],
   "source": [
    "save_to_s3(irs990_990, 'return_type=990/')"
   ]
  },
  {
   "cell_type": "code",
   "execution_count": 16,
   "metadata": {},
   "outputs": [
    {
     "name": "stdout",
     "output_type": "stream",
     "text": [
      "s3://yuehao-irs-990/partition/return_type=990EO/index_2019.csv\n",
      "Successfull uploaded file to location:s3://yuehao-irs-990/partition/return_type=990EO/index_2019.csv\n"
     ]
    },
    {
     "data": {
      "text/plain": [
       "'s3://yuehao-irs-990/partition/return_type=990EO/index_2019.csv'"
      ]
     },
     "execution_count": 16,
     "metadata": {},
     "output_type": "execute_result"
    }
   ],
   "source": [
    "save_to_s3(irs990_990EO, 'return_type=990EO/')"
   ]
  },
  {
   "cell_type": "code",
   "execution_count": 17,
   "metadata": {},
   "outputs": [
    {
     "name": "stdout",
     "output_type": "stream",
     "text": [
      "s3://yuehao-irs-990/partition/return_type=990EZ/index_2019.csv\n",
      "Successfull uploaded file to location:s3://yuehao-irs-990/partition/return_type=990EZ/index_2019.csv\n"
     ]
    },
    {
     "data": {
      "text/plain": [
       "'s3://yuehao-irs-990/partition/return_type=990EZ/index_2019.csv'"
      ]
     },
     "execution_count": 17,
     "metadata": {},
     "output_type": "execute_result"
    }
   ],
   "source": [
    "save_to_s3(irs990_990EZ, 'return_type=990EZ/')"
   ]
  },
  {
   "cell_type": "code",
   "execution_count": 18,
   "metadata": {},
   "outputs": [
    {
     "name": "stdout",
     "output_type": "stream",
     "text": [
      "s3://yuehao-irs-990/partition/return_type=990O/index_2019.csv\n",
      "Successfull uploaded file to location:s3://yuehao-irs-990/partition/return_type=990O/index_2019.csv\n"
     ]
    },
    {
     "data": {
      "text/plain": [
       "'s3://yuehao-irs-990/partition/return_type=990O/index_2019.csv'"
      ]
     },
     "execution_count": 18,
     "metadata": {},
     "output_type": "execute_result"
    }
   ],
   "source": [
    "save_to_s3(irs990_990O, 'return_type=990O/')"
   ]
  },
  {
   "cell_type": "code",
   "execution_count": 21,
   "metadata": {},
   "outputs": [
    {
     "name": "stdout",
     "output_type": "stream",
     "text": [
      "s3://yuehao-irs-990/partition/return_type=990PF/index_2019.csv\n",
      "Successfull uploaded file to location:s3://yuehao-irs-990/partition/return_type=990PF/index_2019.csv\n"
     ]
    },
    {
     "data": {
      "text/plain": [
       "'s3://yuehao-irs-990/partition/return_type=990PF/index_2019.csv'"
      ]
     },
     "execution_count": 21,
     "metadata": {},
     "output_type": "execute_result"
    }
   ],
   "source": [
    "save_to_s3(irs990_990PF, 'return_type=990PF/')"
   ]
  },
  {
   "cell_type": "code",
   "execution_count": null,
   "metadata": {},
   "outputs": [],
   "source": []
  }
 ],
 "metadata": {
  "kernelspec": {
   "display_name": "Python 3",
   "language": "python",
   "name": "python3"
  },
  "language_info": {
   "codemirror_mode": {
    "name": "ipython",
    "version": 3
   },
   "file_extension": ".py",
   "mimetype": "text/x-python",
   "name": "python",
   "nbconvert_exporter": "python",
   "pygments_lexer": "ipython3",
   "version": "3.8.5"
  }
 },
 "nbformat": 4,
 "nbformat_minor": 4
}
